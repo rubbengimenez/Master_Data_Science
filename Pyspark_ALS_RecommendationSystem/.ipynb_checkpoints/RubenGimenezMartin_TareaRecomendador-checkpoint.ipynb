{
 "cells": [
  {
   "cell_type": "markdown",
   "metadata": {},
   "source": [
    "# Tarea Big Data \n",
    "------------------------------------\n",
    "    \n",
    "## Sistema de Recomendación (Filtrado Colaborativo)\n",
    "### Rubén Giménez Martín\n",
    "**- Evaluar el modelo de filtrado colaborativo sobre el dataset de películas (Movies)**\n",
    "\n",
    "**- Escribir una implementación del mismo para Spark**"
   ]
  },
  {
   "cell_type": "markdown",
   "metadata": {},
   "source": [
    "###  Introducción\n",
    "\n",
    "En el siguiente ejercicio se mostrará la implementación, a través de Spark, de un Sistema de Recomendación de tipo filtrado colaborativo.\n",
    "\n",
    "Se conoce como sistema de recomendación a aquel sistema de filtrado de información que permita predecir las preferencias de determinados usuarios con el objetivo de ofrecerles productos o servicios más afines a dichas preferencias. Estos sistemas son comúnmente utilizados en Internet con multitud de aplicaciones y objetivos, desde aumentar los ratios de conversión en negocios de comercio electrónico hasta mejorar la personalización de determinados sitios web o incrementar la satisfacción de sus usuarios. \n",
    "\n",
    "Comúnmente se definen tres fases en un sistema de recomendación:\n",
    "\n",
    "1.\tCaptura de las preferencias de los usuarios\n",
    "\n",
    "     - Preferencias Implícitas: La opinión del usuario es inferida a partir del uso del sitio web o de la app. Como, por ejemplo, número de visitas, número de clics, etc.\n",
    "\n",
    "    - Preferencias Explícitas: El usuario valora los servicios o los productos de manera consciente. Por ejemplo, los likes y dislikes, o las valoraciones por puntación.  \n",
    "\n",
    "2.\tExtracción de conocimiento. El sistema interpreta la información con el objetivo de ser capaz de predecir las preferencias.\n",
    "\n",
    "3.\tFase de predicción.\n",
    "\n",
    "En el caso de este ejercicio, el conjunto de datos proporcionado consta de preferencias explícitas de los usuarios, es decir, de valoraciones o *ratings*. En estos casos, el objetivo de los algorítmos de recomendación es predecir los datos faltanttes de la matriz original de *ratings*, la cual presentará, como se puede ver en la imágen inferior, un alto número de datos faltantes, ya que es extremadamente difícil encontrar un usuario que haya valorado todos los ítems de la matriz.\n",
    "\n",
    "En este ejercicio, se utilizará el algorítmo ALS (alternating least squares) como sistema de recomendación. Este algortimo interpreta a los usuarios y a los ítems como un pequeño conjunto de factores latentes con los que, mediante la factorización de matrices, es capaz de predecir los registros faltantes, siempre y cuando haya, al menos, un dato por cada fila y cada columna.\n",
    "\n",
    "![Matriz original de ratings y factorización de la matriz](http://katbailey.github.io/images/matrix_factorization.png)"
   ]
  },
  {
   "cell_type": "markdown",
   "metadata": {},
   "source": [
    "### Implementación del algorítmo"
   ]
  },
  {
   "cell_type": "markdown",
   "metadata": {},
   "source": [
    "**Librerías**"
   ]
  },
  {
   "cell_type": "code",
   "execution_count": 27,
   "metadata": {},
   "outputs": [],
   "source": [
    "# Importing needed Packages\n",
    "import numpy as np\n",
    "import pandas as pd\n",
    "\n",
    "from pyspark import SparkContext\n",
    "from pyspark.sql import SQLContext, SparkSession\n",
    "\n",
    "from pyspark.sql.functions import *\n",
    "from pyspark.ml.evaluation import RegressionEvaluator\n",
    "from pyspark.ml.recommendation import ALS\n",
    "from pyspark.ml.tuning import ParamGridBuilder, CrossValidator\n",
    "\n",
    "from time import time\n",
    "from sklearn.metrics import mean_squared_error\n",
    "from math import sqrt\n",
    "\n",
    "# setting a Seed\n",
    "SEED = 1917\n",
    "np.random.seed(SEED)"
   ]
  },
  {
   "cell_type": "markdown",
   "metadata": {},
   "source": [
    "**Funciones utilizadas**"
   ]
  },
  {
   "cell_type": "code",
   "execution_count": 2,
   "metadata": {},
   "outputs": [],
   "source": [
    "def rename_columns(data, old_cols, new_cols):\n",
    "    for old, new in zip(old_cols, new_cols):\n",
    "        data = data.withColumnRenamed(old, new)\n",
    "    return data"
   ]
  },
  {
   "cell_type": "markdown",
   "metadata": {},
   "source": [
    "Inicialización de SparkContext y la sesión en Spark"
   ]
  },
  {
   "cell_type": "code",
   "execution_count": 3,
   "metadata": {},
   "outputs": [],
   "source": [
    "sc = SparkContext()\n",
    "sql = SQLContext(sc)\n",
    "spark = SparkSession.builder.appName(\"recommendation\").getOrCreate()"
   ]
  },
  {
   "cell_type": "markdown",
   "metadata": {},
   "source": [
    "### Tratamiento Inicial de los datos"
   ]
  },
  {
   "cell_type": "markdown",
   "metadata": {},
   "source": [
    "**Importación de los 3 conjuntos de datos**\n",
    "\n",
    "Se importan y renombran correctamente las columnas de los conjuntos de datos"
   ]
  },
  {
   "cell_type": "code",
   "execution_count": 4,
   "metadata": {},
   "outputs": [],
   "source": [
    "# Importing the 3 dataframes Ratings, Movies & USERS\n",
    "# \"::\" changed previously to commas \",\"\n",
    "ratings = sql.read.format(\"csv\").options(header=\"false\", inferSchema=\"true\", delimiter = \",\").load(\"data/ratings.dat\")\n",
    "movies = sql.read.format(\"csv\").options(header=\"false\", inferSchema=\"true\", delimiter = \",\").load(\"data/movies.dat\")\n",
    "users = sql.read.format(\"csv\").options(header=\"false\", inferSchema=\"true\", delimiter = \",\").load(\"data/users.dat\")\n",
    "\n",
    "# Column names must be fixed. According to README:\n",
    "ratings_colnames_old = ratings.columns\n",
    "movies_colnames_old = movies.columns\n",
    "users_colnames_old = users.columns\n",
    "# new\n",
    "ratings_colnames = [\"UserID\",\"MovieID\",\"Rating\",\"Timestamp\"]\n",
    "movies_colnames = [\"MovieID\",\"Title\",\"Genres\"]\n",
    "users_colnames = [\"UserID\",\"Gender\",\"Age\",\"Occupation\",\"Zipcode\"]\n",
    "\n",
    "ratings_new = rename_columns(data = ratings, old_cols = ratings_colnames_old, new_cols = ratings_colnames)\n",
    "movies_new= rename_columns(data = movies, old_cols = movies_colnames_old, new_cols = movies_colnames)\n",
    "users_new = rename_columns(data = users, old_cols = users_colnames_old, new_cols = users_colnames)\n",
    "\n",
    "ratings = ratings_new\n",
    "movies = movies_new\n",
    "users = users_new\n",
    "del(ratings_new, movies_new, users_new)"
   ]
  },
  {
   "cell_type": "markdown",
   "metadata": {},
   "source": [
    "Se muestran los 5 primeros registros de cada dataframe"
   ]
  },
  {
   "cell_type": "code",
   "execution_count": 5,
   "metadata": {},
   "outputs": [
    {
     "name": "stdout",
     "output_type": "stream",
     "text": [
      "\u001b[1mRatings DataFrame\u001b[0m\n",
      "+------+-------+------+---------+\n",
      "|UserID|MovieID|Rating|Timestamp|\n",
      "+------+-------+------+---------+\n",
      "|     1|   1193|     5|978300760|\n",
      "|     1|    661|     3|978302109|\n",
      "|     1|    914|     3|978301968|\n",
      "|     1|   3408|     4|978300275|\n",
      "|     1|   2355|     5|978824291|\n",
      "+------+-------+------+---------+\n",
      "only showing top 5 rows\n",
      "\n",
      "\u001b[1mMovies DataFrame\u001b[0m\n",
      "+-------+--------------------+--------------------+\n",
      "|MovieID|               Title|              Genres|\n",
      "+-------+--------------------+--------------------+\n",
      "|      1|    Toy Story (1995)|Animation|Childre...|\n",
      "|      2|      Jumanji (1995)|Adventure|Childre...|\n",
      "|      3|Grumpier Old Men ...|      Comedy|Romance|\n",
      "|      4|Waiting to Exhale...|        Comedy|Drama|\n",
      "|      5|Father of the Bri...|              Comedy|\n",
      "+-------+--------------------+--------------------+\n",
      "only showing top 5 rows\n",
      "\n",
      "\u001b[1mUsers DataFrame\u001b[0m\n",
      "+------+------+---+----------+-------+\n",
      "|UserID|Gender|Age|Occupation|Zipcode|\n",
      "+------+------+---+----------+-------+\n",
      "|     1|     F|  1|        10|  48067|\n",
      "|     2|     M| 56|        16|  70072|\n",
      "|     3|     M| 25|        15|  55117|\n",
      "|     4|     M| 45|         7|  02460|\n",
      "|     5|     M| 25|        20|  55455|\n",
      "+------+------+---+----------+-------+\n",
      "only showing top 5 rows\n",
      "\n"
     ]
    }
   ],
   "source": [
    "print(\"\\033[1mRatings DataFrame\\033[0m\")\n",
    "ratings.show(5)\n",
    "print(\"\\033[1mMovies DataFrame\\033[0m\")\n",
    "movies.show(5)\n",
    "print(\"\\033[1mUsers DataFrame\\033[0m\")\n",
    "users.show(5)"
   ]
  },
  {
   "cell_type": "markdown",
   "metadata": {},
   "source": [
    "Se retira la variable `Timestamp` del DataFrame `ratings` dado que no será utilizada."
   ]
  },
  {
   "cell_type": "code",
   "execution_count": 5,
   "metadata": {},
   "outputs": [],
   "source": [
    "ratings = ratings.drop(\"Timestamp\")"
   ]
  },
  {
   "cell_type": "markdown",
   "metadata": {},
   "source": [
    "### Breve exploración y análisis de los datos"
   ]
  },
  {
   "cell_type": "markdown",
   "metadata": {},
   "source": [
    "Para comenzar, se comprueba la escasez (**sparsity**) de datos de la matriz original de *ratings*.\n",
    "\n",
    "La fórmula con la que esta escasez calculada se define de la siguiente manera:\n",
    "\n",
    "$$Sparsity=\\frac{\\text{Número de Ratings en la Matriz Original}}{\\text{Número de Usuarios}\\thinspace X \\thinspace \\text{Número de Items}}$$"
   ]
  },
  {
   "cell_type": "code",
   "execution_count": 7,
   "metadata": {},
   "outputs": [
    {
     "name": "stdout",
     "output_type": "stream",
     "text": [
      "Sparsity: 96.0 %\n"
     ]
    }
   ],
   "source": [
    "rating_count = ratings.count()\n",
    "users_distinct = ratings.select(\"UserID\").distinct().count()\n",
    "movies_distinct = ratings.select(\"MovieID\").distinct().count()\n",
    "\n",
    "sparsity = 1 - (rating_count*1.0 / (users_distinct*movies_distinct))\n",
    "print (\"Sparsity:\",  np.round(sparsity, 2)*100, \"%\")\n"
   ]
  },
  {
   "cell_type": "markdown",
   "metadata": {},
   "source": [
    "Se comprueba que cerca del 96% de las celdas de la matriz original de *ratings* pertenecen a registros faltantes. Sin embargo, el algoritmo, siempre y cuando haya un registro por cada columna y fila, debe ser capaz de inferir todos los valores."
   ]
  },
  {
   "cell_type": "code",
   "execution_count": 7,
   "metadata": {},
   "outputs": [
    {
     "name": "stdout",
     "output_type": "stream",
     "text": [
      "\u001b[1mNumber of rows of the whole DataFrame:\u001b[0m 1000209 rows\n",
      "\n",
      "\u001b[1mMain statistics of the Rating variable:\u001b[0m\n",
      "+-----------------+------------------+---------+---------+\n",
      "|          Average|standard Deviation|Min Value|Max Value|\n",
      "+-----------------+------------------+---------+---------+\n",
      "|3.581564453029317|1.1171018453732595|        1|        5|\n",
      "+-----------------+------------------+---------+---------+\n",
      "\n",
      "\u001b[1mMain statistics of the Age variable:\u001b[0m\n",
      "+------------------+------------------+---------+---------+\n",
      "|           Average|standard Deviation|Min Value|Max Value|\n",
      "+------------------+------------------+---------+---------+\n",
      "|30.639238410596025|12.895961726906837|        1|       56|\n",
      "+------------------+------------------+---------+---------+\n",
      "\n",
      "\u001b[1mMain statistics of the Occupation variable:\u001b[0m\n",
      "+-----------------+------------------+---------+---------+\n",
      "|          Average|standard Deviation|Min Value|Max Value|\n",
      "+-----------------+------------------+---------+---------+\n",
      "|8.146854304635761| 6.329511491401687|        0|       20|\n",
      "+-----------------+------------------+---------+---------+\n",
      "\n",
      "\u001b[1mNumber of Males (M) & Females (F):\u001b[0m\n",
      "+------+-----+\n",
      "|Gender|count|\n",
      "+------+-----+\n",
      "|     F| 1709|\n",
      "|     M| 4331|\n",
      "+------+-----+\n",
      "\n",
      "\u001b[1mNAs per column in each DataFrame\u001b[0m\n",
      "\u001b[1mRatings:\u001b[0m\n",
      "+------+-------+------+\n",
      "|UserID|MovieID|Rating|\n",
      "+------+-------+------+\n",
      "|     0|      0|     0|\n",
      "+------+-------+------+\n",
      "\n",
      "\u001b[1mMovies:\u001b[0m\n",
      "+-------+-----+------+\n",
      "|MovieID|Title|Genres|\n",
      "+-------+-----+------+\n",
      "|      0|    0|     0|\n",
      "+-------+-----+------+\n",
      "\n",
      "\u001b[1mUsers:\u001b[0m\n",
      "+------+------+---+----------+-------+\n",
      "|UserID|Gender|Age|Occupation|Zipcode|\n",
      "+------+------+---+----------+-------+\n",
      "|     0|     0|  0|         0|      0|\n",
      "+------+------+---+----------+-------+\n",
      "\n"
     ]
    }
   ],
   "source": [
    "print(\"\\033[1mNumber of rows of the whole DataFrame:\\033[0m\",ratings.count(), \"rows\\n\")\n",
    "\n",
    "print(\"\\033[1mMain statistics of the Rating variable:\\033[0m\")\n",
    "ratings.select([mean(\"Rating\").alias(\"Average\"), stddev(\"Rating\").alias(\"standard Deviation\"), min(\"Rating\").alias(\"Min Value\"), max(\"Rating\").alias(\"Max Value\")]).show()\n",
    "\n",
    "print(\"\\033[1mMain statistics of the Age variable:\\033[0m\")\n",
    "users.select([mean(\"Age\").alias(\"Average\"), stddev(\"Age\").alias(\"standard Deviation\"), min(\"Age\").alias(\"Min Value\"), max(\"Age\").alias(\"Max Value\")]).show()\n",
    "\n",
    "print(\"\\033[1mMain statistics of the Occupation variable:\\033[0m\")\n",
    "users.select([mean(\"Occupation\").alias(\"Average\"), stddev(\"Occupation\").alias(\"standard Deviation\"), min(\"Occupation\").alias(\"Min Value\"), max(\"Occupation\").alias(\"Max Value\")]).show()\n",
    "\n",
    "print(\"\\033[1mNumber of Males (M) & Females (F):\\033[0m\")\n",
    "# remember 1 in Age means under 18\n",
    "users.groupBy(\"Gender\").count().show()\n",
    "\n",
    "print(\"\\033[1mNAs per column in each DataFrame\\033[0m\")\n",
    "print(\"\\033[1mRatings:\\033[0m\")\n",
    "ratings.select([count(when(isnan(c), c)).alias(c) for c in ratings.columns]).show()\n",
    "print(\"\\033[1mMovies:\\033[0m\")\n",
    "movies.select([count(when(isnan(c), c)).alias(c) for c in movies.columns]).show()\n",
    "print(\"\\033[1mUsers:\\033[0m\")\n",
    "users.select([count(when(isnan(c), c)).alias(c) for c in users.columns]).show()\n"
   ]
  },
  {
   "cell_type": "markdown",
   "metadata": {},
   "source": [
    "## Entrenamiento del Algoritmo ALS\n",
    "\n",
    "Se recurda que el algoritmo ALS implementado en [Spark](https://spark.apache.org/docs/latest/mllib-collaborative-filtering.html) cuenta con los siguientes  parámetros:\n",
    "\n",
    "+ *numBlocks is the number of blocks used to parallelize computation (set to -1 to auto-configure).*\n",
    "\n",
    "+ *rank is the number of features to use (also referred to as the number of latent factors).*\n",
    "\n",
    "+ *iterations is the number of iterations of ALS to run. ALS typically converges to a reasonable solution in 20 iterations or less.*\n",
    "\n",
    "+ *lambda specifies the regularization parameter in ALS.*\n",
    "\n",
    "+ *implicitPrefs specifies whether to use the explicit feedback ALS variant or one adapted for implicit feedback data. alpha is a parameter applicable to the implicit feedback variant of ALS that governs the baseline confidence in preference observations.*\n"
   ]
  },
  {
   "cell_type": "markdown",
   "metadata": {},
   "source": [
    "Dado que este ejercicio se trata de una demostración de funcionamiento, se entrenará el algoritmo únicamente con un 20% aleatorio de los datos originales con el objetivo de reducir el tiempo de computación.  "
   ]
  },
  {
   "cell_type": "code",
   "execution_count": 6,
   "metadata": {},
   "outputs": [
    {
     "data": {
      "text/plain": [
       "200166"
      ]
     },
     "execution_count": 6,
     "metadata": {},
     "output_type": "execute_result"
    }
   ],
   "source": [
    "(ratings, raw) = ratings.randomSplit([0.2, 0.8], seed = SEED)\n",
    "del(raw)\n",
    "ratings.count()"
   ]
  },
  {
   "cell_type": "markdown",
   "metadata": {},
   "source": [
    "**Partición del conjunto de train y test**"
   ]
  },
  {
   "cell_type": "code",
   "execution_count": 7,
   "metadata": {},
   "outputs": [
    {
     "name": "stdout",
     "output_type": "stream",
     "text": [
      "\u001b[1mNumber of rows of the training set:\u001b[0m 139988 rows\n",
      "\n",
      "\u001b[1mNumber of rows of the test set:\u001b[0m 60178 rows\n",
      "\n"
     ]
    }
   ],
   "source": [
    "(training, test) = ratings.randomSplit([0.7, 0.3], seed = SEED)\n",
    "training.count()\n",
    "print(\"\\033[1mNumber of rows of the training set:\\033[0m\",training.count(), \"rows\\n\")\n",
    "print(\"\\033[1mNumber of rows of the test set:\\033[0m\",test.count(), \"rows\\n\")"
   ]
  },
  {
   "cell_type": "markdown",
   "metadata": {},
   "source": [
    "**Definición del algoritmo y sus parámetros**\n",
    "\n",
    "Se tratará de encontrar el mejor modelo posible con los siguientes parámetros:"
   ]
  },
  {
   "cell_type": "code",
   "execution_count": 8,
   "metadata": {},
   "outputs": [],
   "source": [
    "# Algorithm properties & hyperparameters\n",
    "als = ALS(userCol=\"UserID\",\n",
    "          itemCol=\"MovieID\",\n",
    "          ratingCol=\"Rating\",\n",
    "          coldStartStrategy=\"drop\",\n",
    "          nonnegative = True,\n",
    "          implicitPrefs = False)\n",
    "\n",
    "param_grid = ParamGridBuilder()\\\n",
    "            .addGrid(als.rank, [5, 15, 20])\\\n",
    "            .addGrid(als.maxIter, [5, 10, 20])\\\n",
    "            .addGrid(als.regParam, [.05, 0.1, 1.5]).build()\n",
    "\n",
    "evaluator = RegressionEvaluator(metricName=\"rmse\", labelCol=\"Rating\", predictionCol=\"prediction\")\n",
    "\n",
    "cv = CrossValidator(estimator = als,\n",
    "                    estimatorParamMaps = param_grid,\n",
    "                    evaluator = evaluator,\n",
    "                    numFolds = 5)"
   ]
  },
  {
   "cell_type": "markdown",
   "metadata": {},
   "source": [
    "**Fase de Entrenamiento**"
   ]
  },
  {
   "cell_type": "code",
   "execution_count": 9,
   "metadata": {
    "scrolled": false
   },
   "outputs": [
    {
     "name": "stdout",
     "output_type": "stream",
     "text": [
      "Time Training: 4.3e+03 sec\n"
     ]
    }
   ],
   "source": [
    "t0 = time()\n",
    "model = cv.fit(training)\n",
    "t1 = time()\n",
    "print(\"Time Training: %.2g sec\" % (t1 - t0))"
   ]
  },
  {
   "cell_type": "markdown",
   "metadata": {},
   "source": [
    "Extracción del mejor modelo y sus parámetros:\n"
   ]
  },
  {
   "cell_type": "code",
   "execution_count": 10,
   "metadata": {},
   "outputs": [
    {
     "name": "stdout",
     "output_type": "stream",
     "text": [
      "\u001b[1mBest Model\u001b[0m\n",
      "--------------------\n",
      "Rank:  5\n",
      "MaxIter:  20\n",
      "RegParam:  0.1\n"
     ]
    }
   ],
   "source": [
    "best_model = model.bestModel\n",
    "print (\"\\033[1mBest Model\\033[0m\")\n",
    "print(\"--------------------\")\n",
    "print (\"Rank: \", best_model.rank )\n",
    "print (\"MaxIter: \", best_model._java_obj.parent().getMaxIter())\n",
    "print (\"RegParam: \", best_model._java_obj.parent().getRegParam())"
   ]
  },
  {
   "cell_type": "markdown",
   "metadata": {},
   "source": [
    "**Predicción**"
   ]
  },
  {
   "cell_type": "code",
   "execution_count": 11,
   "metadata": {},
   "outputs": [
    {
     "name": "stdout",
     "output_type": "stream",
     "text": [
      "\u001b[1mRMSE:\u001b[0m 0.9742822165994155\n"
     ]
    }
   ],
   "source": [
    "#predictions: \n",
    "predictions = best_model.transform(test)\n",
    "\n",
    "#rmse\n",
    "rmse = evaluator.evaluate(predictions)\n",
    "print (\"\\033[1mRMSE:\\033[0m\", rmse)"
   ]
  },
  {
   "cell_type": "markdown",
   "metadata": {},
   "source": [
    "Se muestra a continuación una muestra de las predicciones realizadas con el modelo:"
   ]
  },
  {
   "cell_type": "code",
   "execution_count": 12,
   "metadata": {},
   "outputs": [
    {
     "name": "stdout",
     "output_type": "stream",
     "text": [
      "+------+-------+------+----------+\n",
      "|UserID|MovieID|Rating|prediction|\n",
      "+------+-------+------+----------+\n",
      "|  2383|    148|     2| 3.7267098|\n",
      "|   319|    463|     2| 2.6483166|\n",
      "|  5306|    463|     2| 2.7176168|\n",
      "|  3709|    463|     3| 3.1942973|\n",
      "|   524|    463|     3| 2.2999346|\n",
      "|  3224|    463|     3|  2.689817|\n",
      "|  5222|    471|     4| 2.5919006|\n",
      "|   406|    471|     2| 3.0395594|\n",
      "|  4446|    471|     5| 3.0319963|\n",
      "|  5841|    471|     3| 3.6752293|\n",
      "+------+-------+------+----------+\n",
      "only showing top 10 rows\n",
      "\n"
     ]
    }
   ],
   "source": [
    "predictions.show(10)"
   ]
  },
  {
   "cell_type": "markdown",
   "metadata": {},
   "source": [
    "A continuación, mediante un join, se une el DataFrame que contiene las predicciones con los DataFrames `movies`y `users`con el objetivo de observar y entender mejor los datos."
   ]
  },
  {
   "cell_type": "code",
   "execution_count": 13,
   "metadata": {},
   "outputs": [
    {
     "name": "stdout",
     "output_type": "stream",
     "text": [
      "+------+-------+------+----------+--------------------+--------------------+------+---+----------+-------+\n",
      "|UserID|MovieID|Rating|prediction|               Title|              Genres|Gender|Age|Occupation|Zipcode|\n",
      "+------+-------+------+----------+--------------------+--------------------+------+---+----------+-------+\n",
      "|  2383|    148|     2| 3.7267098|Awfully Big Adven...|           An (1995)|     F| 25|        14|  95125|\n",
      "|   319|    463|     2| 2.6483166|Guilty as Sin (1993)|Crime|Drama|Thriller|     F| 50|         6|  33436|\n",
      "|  5306|    463|     2| 2.7176168|Guilty as Sin (1993)|Crime|Drama|Thriller|     F| 25|        17|  92121|\n",
      "|  3709|    463|     3| 3.1942973|Guilty as Sin (1993)|Crime|Drama|Thriller|     M| 25|        12|  89502|\n",
      "|   524|    463|     3| 2.2999346|Guilty as Sin (1993)|Crime|Drama|Thriller|     M| 18|         0|  91320|\n",
      "|  3224|    463|     3|  2.689817|Guilty as Sin (1993)|Crime|Drama|Thriller|     F| 25|        14|  93428|\n",
      "|  5222|    471|     4| 2.5919006|     Hudsucker Proxy|          The (1994)|     M| 25|        12|  94501|\n",
      "|   406|    471|     2| 3.0395594|     Hudsucker Proxy|          The (1994)|     M| 25|        20|  55105|\n",
      "|  4446|    471|     5| 3.0319963|     Hudsucker Proxy|          The (1994)|     M| 18|        18|  60435|\n",
      "|  5841|    471|     3| 3.6752293|     Hudsucker Proxy|          The (1994)|     F| 35|         7|  10024|\n",
      "|  1925|    471|     5| 3.8140934|     Hudsucker Proxy|          The (1994)|     M| 50|         7|  92886|\n",
      "|  5365|    471|     4| 3.3794792|     Hudsucker Proxy|          The (1994)|     M| 18|        12|  90250|\n",
      "|  3261|    471|     3| 3.5260673|     Hudsucker Proxy|          The (1994)|     M| 45|        20|  87505|\n",
      "|  1491|    471|     3| 3.1400783|     Hudsucker Proxy|          The (1994)|     M| 18|         4|  06511|\n",
      "|  2967|    471|     1| 3.7431772|     Hudsucker Proxy|          The (1994)|     M| 25|         0|  94110|\n",
      "|  2256|    471|     4| 3.3197525|     Hudsucker Proxy|          The (1994)|     F| 45|        15|  59840|\n",
      "|  3484|    471|     3| 2.8637254|     Hudsucker Proxy|          The (1994)|     M| 18|         4|  28403|\n",
      "|  5488|    471|     3| 2.1518588|     Hudsucker Proxy|          The (1994)|     M| 25|        15|  91125|\n",
      "|  3327|    471|     4| 3.5146673|     Hudsucker Proxy|          The (1994)|     M| 18|        12|  91423|\n",
      "|   721|    471|     4| 3.0883687|     Hudsucker Proxy|          The (1994)|     F| 35|         9|  97520|\n",
      "+------+-------+------+----------+--------------------+--------------------+------+---+----------+-------+\n",
      "only showing top 20 rows\n",
      "\n"
     ]
    }
   ],
   "source": [
    "main_df = predictions.join(movies, [\"MovieID\"], \"left\")\n",
    "main_df = main_df.join(users, [\"UserID\"], \"left\")\n",
    "main_df.show()"
   ]
  },
  {
   "cell_type": "markdown",
   "metadata": {},
   "source": [
    "Como ejemplo final, se observan las predicciones para un usuario determinado, transformando el DataFrame a un Pandas DataFrame. En este caso, para el usuario 5841:"
   ]
  },
  {
   "cell_type": "code",
   "execution_count": 34,
   "metadata": {},
   "outputs": [
    {
     "data": {
      "text/html": [
       "<div>\n",
       "<style scoped>\n",
       "    .dataframe tbody tr th:only-of-type {\n",
       "        vertical-align: middle;\n",
       "    }\n",
       "\n",
       "    .dataframe tbody tr th {\n",
       "        vertical-align: top;\n",
       "    }\n",
       "\n",
       "    .dataframe thead th {\n",
       "        text-align: right;\n",
       "    }\n",
       "</style>\n",
       "<table border=\"1\" class=\"dataframe\">\n",
       "  <thead>\n",
       "    <tr style=\"text-align: right;\">\n",
       "      <th></th>\n",
       "      <th>UserID</th>\n",
       "      <th>MovieID</th>\n",
       "      <th>Rating</th>\n",
       "      <th>prediction</th>\n",
       "      <th>Title</th>\n",
       "      <th>Genres</th>\n",
       "      <th>Gender</th>\n",
       "      <th>Age</th>\n",
       "      <th>Occupation</th>\n",
       "      <th>Zipcode</th>\n",
       "    </tr>\n",
       "  </thead>\n",
       "  <tbody>\n",
       "    <tr>\n",
       "      <th>9</th>\n",
       "      <td>5841</td>\n",
       "      <td>471</td>\n",
       "      <td>3</td>\n",
       "      <td>3.675229</td>\n",
       "      <td>Hudsucker Proxy</td>\n",
       "      <td>The (1994)</td>\n",
       "      <td>F</td>\n",
       "      <td>35</td>\n",
       "      <td>7</td>\n",
       "      <td>10024</td>\n",
       "    </tr>\n",
       "    <tr>\n",
       "      <th>1999</th>\n",
       "      <td>5841</td>\n",
       "      <td>2392</td>\n",
       "      <td>2</td>\n",
       "      <td>2.526871</td>\n",
       "      <td>Jack Frost (1998)</td>\n",
       "      <td>Comedy|Drama</td>\n",
       "      <td>F</td>\n",
       "      <td>35</td>\n",
       "      <td>7</td>\n",
       "      <td>10024</td>\n",
       "    </tr>\n",
       "    <tr>\n",
       "      <th>4742</th>\n",
       "      <td>5841</td>\n",
       "      <td>1031</td>\n",
       "      <td>5</td>\n",
       "      <td>3.402708</td>\n",
       "      <td>Bedknobs and Broomsticks (1971)</td>\n",
       "      <td>Adventure|Children's|Musical</td>\n",
       "      <td>F</td>\n",
       "      <td>35</td>\n",
       "      <td>7</td>\n",
       "      <td>10024</td>\n",
       "    </tr>\n",
       "    <tr>\n",
       "      <th>6042</th>\n",
       "      <td>5841</td>\n",
       "      <td>2240</td>\n",
       "      <td>5</td>\n",
       "      <td>3.319477</td>\n",
       "      <td>My Bodyguard (1980)</td>\n",
       "      <td>Drama</td>\n",
       "      <td>F</td>\n",
       "      <td>35</td>\n",
       "      <td>7</td>\n",
       "      <td>10024</td>\n",
       "    </tr>\n",
       "    <tr>\n",
       "      <th>12695</th>\n",
       "      <td>5841</td>\n",
       "      <td>906</td>\n",
       "      <td>5</td>\n",
       "      <td>3.858044</td>\n",
       "      <td>Gaslight (1944)</td>\n",
       "      <td>Mystery|Thriller</td>\n",
       "      <td>F</td>\n",
       "      <td>35</td>\n",
       "      <td>7</td>\n",
       "      <td>10024</td>\n",
       "    </tr>\n",
       "    <tr>\n",
       "      <th>13754</th>\n",
       "      <td>5841</td>\n",
       "      <td>3798</td>\n",
       "      <td>3</td>\n",
       "      <td>3.916767</td>\n",
       "      <td>What Lies Beneath (2000)</td>\n",
       "      <td>Thriller</td>\n",
       "      <td>F</td>\n",
       "      <td>35</td>\n",
       "      <td>7</td>\n",
       "      <td>10024</td>\n",
       "    </tr>\n",
       "    <tr>\n",
       "      <th>16500</th>\n",
       "      <td>5841</td>\n",
       "      <td>1380</td>\n",
       "      <td>3</td>\n",
       "      <td>3.239907</td>\n",
       "      <td>Grease (1978)</td>\n",
       "      <td>Comedy|Musical|Romance</td>\n",
       "      <td>F</td>\n",
       "      <td>35</td>\n",
       "      <td>7</td>\n",
       "      <td>10024</td>\n",
       "    </tr>\n",
       "    <tr>\n",
       "      <th>27416</th>\n",
       "      <td>5841</td>\n",
       "      <td>586</td>\n",
       "      <td>5</td>\n",
       "      <td>3.019213</td>\n",
       "      <td>Home Alone (1990)</td>\n",
       "      <td>Children's|Comedy</td>\n",
       "      <td>F</td>\n",
       "      <td>35</td>\n",
       "      <td>7</td>\n",
       "      <td>10024</td>\n",
       "    </tr>\n",
       "    <tr>\n",
       "      <th>28010</th>\n",
       "      <td>5841</td>\n",
       "      <td>3620</td>\n",
       "      <td>2</td>\n",
       "      <td>2.773004</td>\n",
       "      <td>Myth of Fingerprints</td>\n",
       "      <td>The (1997)</td>\n",
       "      <td>F</td>\n",
       "      <td>35</td>\n",
       "      <td>7</td>\n",
       "      <td>10024</td>\n",
       "    </tr>\n",
       "    <tr>\n",
       "      <th>29338</th>\n",
       "      <td>5841</td>\n",
       "      <td>838</td>\n",
       "      <td>5</td>\n",
       "      <td>4.049261</td>\n",
       "      <td>Emma (1996)</td>\n",
       "      <td>Comedy|Drama|Romance</td>\n",
       "      <td>F</td>\n",
       "      <td>35</td>\n",
       "      <td>7</td>\n",
       "      <td>10024</td>\n",
       "    </tr>\n",
       "    <tr>\n",
       "      <th>34489</th>\n",
       "      <td>5841</td>\n",
       "      <td>928</td>\n",
       "      <td>4</td>\n",
       "      <td>4.316789</td>\n",
       "      <td>Rebecca (1940)</td>\n",
       "      <td>Romance|Thriller</td>\n",
       "      <td>F</td>\n",
       "      <td>35</td>\n",
       "      <td>7</td>\n",
       "      <td>10024</td>\n",
       "    </tr>\n",
       "    <tr>\n",
       "      <th>35027</th>\n",
       "      <td>5841</td>\n",
       "      <td>2194</td>\n",
       "      <td>5</td>\n",
       "      <td>4.118220</td>\n",
       "      <td>Untouchables</td>\n",
       "      <td>The (1987)</td>\n",
       "      <td>F</td>\n",
       "      <td>35</td>\n",
       "      <td>7</td>\n",
       "      <td>10024</td>\n",
       "    </tr>\n",
       "    <tr>\n",
       "      <th>37172</th>\n",
       "      <td>5841</td>\n",
       "      <td>2395</td>\n",
       "      <td>4</td>\n",
       "      <td>4.391558</td>\n",
       "      <td>Rushmore (1998)</td>\n",
       "      <td>Comedy</td>\n",
       "      <td>F</td>\n",
       "      <td>35</td>\n",
       "      <td>7</td>\n",
       "      <td>10024</td>\n",
       "    </tr>\n",
       "    <tr>\n",
       "      <th>37557</th>\n",
       "      <td>5841</td>\n",
       "      <td>1343</td>\n",
       "      <td>4</td>\n",
       "      <td>4.085633</td>\n",
       "      <td>Cape Fear (1991)</td>\n",
       "      <td>Thriller</td>\n",
       "      <td>F</td>\n",
       "      <td>35</td>\n",
       "      <td>7</td>\n",
       "      <td>10024</td>\n",
       "    </tr>\n",
       "    <tr>\n",
       "      <th>38510</th>\n",
       "      <td>5841</td>\n",
       "      <td>364</td>\n",
       "      <td>3</td>\n",
       "      <td>3.728638</td>\n",
       "      <td>Lion King</td>\n",
       "      <td>The (1994)</td>\n",
       "      <td>F</td>\n",
       "      <td>35</td>\n",
       "      <td>7</td>\n",
       "      <td>10024</td>\n",
       "    </tr>\n",
       "    <tr>\n",
       "      <th>44921</th>\n",
       "      <td>5841</td>\n",
       "      <td>3081</td>\n",
       "      <td>2</td>\n",
       "      <td>3.766162</td>\n",
       "      <td>Sleepy Hollow (1999)</td>\n",
       "      <td>Horror|Romance</td>\n",
       "      <td>F</td>\n",
       "      <td>35</td>\n",
       "      <td>7</td>\n",
       "      <td>10024</td>\n",
       "    </tr>\n",
       "    <tr>\n",
       "      <th>48147</th>\n",
       "      <td>5841</td>\n",
       "      <td>913</td>\n",
       "      <td>5</td>\n",
       "      <td>4.293533</td>\n",
       "      <td>Maltese Falcon</td>\n",
       "      <td>The (1941)</td>\n",
       "      <td>F</td>\n",
       "      <td>35</td>\n",
       "      <td>7</td>\n",
       "      <td>10024</td>\n",
       "    </tr>\n",
       "    <tr>\n",
       "      <th>52242</th>\n",
       "      <td>5841</td>\n",
       "      <td>3948</td>\n",
       "      <td>4</td>\n",
       "      <td>4.146535</td>\n",
       "      <td>Meet the Parents (2000)</td>\n",
       "      <td>Comedy</td>\n",
       "      <td>F</td>\n",
       "      <td>35</td>\n",
       "      <td>7</td>\n",
       "      <td>10024</td>\n",
       "    </tr>\n",
       "    <tr>\n",
       "      <th>57128</th>\n",
       "      <td>5841</td>\n",
       "      <td>2976</td>\n",
       "      <td>5</td>\n",
       "      <td>4.108640</td>\n",
       "      <td>Bringing Out the Dead (1999)</td>\n",
       "      <td>Drama|Horror</td>\n",
       "      <td>F</td>\n",
       "      <td>35</td>\n",
       "      <td>7</td>\n",
       "      <td>10024</td>\n",
       "    </tr>\n",
       "    <tr>\n",
       "      <th>59779</th>\n",
       "      <td>5841</td>\n",
       "      <td>2310</td>\n",
       "      <td>5</td>\n",
       "      <td>4.549341</td>\n",
       "      <td>Mighty</td>\n",
       "      <td>The (1998)</td>\n",
       "      <td>F</td>\n",
       "      <td>35</td>\n",
       "      <td>7</td>\n",
       "      <td>10024</td>\n",
       "    </tr>\n",
       "  </tbody>\n",
       "</table>\n",
       "</div>"
      ],
      "text/plain": [
       "       UserID  MovieID  Rating  prediction                            Title  \\\n",
       "9        5841      471       3    3.675229                  Hudsucker Proxy   \n",
       "1999     5841     2392       2    2.526871                Jack Frost (1998)   \n",
       "4742     5841     1031       5    3.402708  Bedknobs and Broomsticks (1971)   \n",
       "6042     5841     2240       5    3.319477              My Bodyguard (1980)   \n",
       "12695    5841      906       5    3.858044                  Gaslight (1944)   \n",
       "13754    5841     3798       3    3.916767         What Lies Beneath (2000)   \n",
       "16500    5841     1380       3    3.239907                    Grease (1978)   \n",
       "27416    5841      586       5    3.019213                Home Alone (1990)   \n",
       "28010    5841     3620       2    2.773004             Myth of Fingerprints   \n",
       "29338    5841      838       5    4.049261                      Emma (1996)   \n",
       "34489    5841      928       4    4.316789                   Rebecca (1940)   \n",
       "35027    5841     2194       5    4.118220                     Untouchables   \n",
       "37172    5841     2395       4    4.391558                  Rushmore (1998)   \n",
       "37557    5841     1343       4    4.085633                 Cape Fear (1991)   \n",
       "38510    5841      364       3    3.728638                        Lion King   \n",
       "44921    5841     3081       2    3.766162             Sleepy Hollow (1999)   \n",
       "48147    5841      913       5    4.293533                   Maltese Falcon   \n",
       "52242    5841     3948       4    4.146535          Meet the Parents (2000)   \n",
       "57128    5841     2976       5    4.108640     Bringing Out the Dead (1999)   \n",
       "59779    5841     2310       5    4.549341                           Mighty   \n",
       "\n",
       "                             Genres Gender  Age  Occupation Zipcode  \n",
       "9                        The (1994)      F   35           7   10024  \n",
       "1999                   Comedy|Drama      F   35           7   10024  \n",
       "4742   Adventure|Children's|Musical      F   35           7   10024  \n",
       "6042                          Drama      F   35           7   10024  \n",
       "12695              Mystery|Thriller      F   35           7   10024  \n",
       "13754                      Thriller      F   35           7   10024  \n",
       "16500        Comedy|Musical|Romance      F   35           7   10024  \n",
       "27416             Children's|Comedy      F   35           7   10024  \n",
       "28010                    The (1997)      F   35           7   10024  \n",
       "29338          Comedy|Drama|Romance      F   35           7   10024  \n",
       "34489              Romance|Thriller      F   35           7   10024  \n",
       "35027                    The (1987)      F   35           7   10024  \n",
       "37172                        Comedy      F   35           7   10024  \n",
       "37557                      Thriller      F   35           7   10024  \n",
       "38510                    The (1994)      F   35           7   10024  \n",
       "44921                Horror|Romance      F   35           7   10024  \n",
       "48147                    The (1941)      F   35           7   10024  \n",
       "52242                        Comedy      F   35           7   10024  \n",
       "57128                  Drama|Horror      F   35           7   10024  \n",
       "59779                    The (1998)      F   35           7   10024  "
      ]
     },
     "execution_count": 34,
     "metadata": {},
     "output_type": "execute_result"
    }
   ],
   "source": [
    "main_df = main_df.toPandas()\n",
    "main_df[main_df.UserID == 5841]"
   ]
  }
 ],
 "metadata": {
  "kernelspec": {
   "display_name": "Python 3",
   "language": "python",
   "name": "python3"
  },
  "language_info": {
   "codemirror_mode": {
    "name": "ipython",
    "version": 3
   },
   "file_extension": ".py",
   "mimetype": "text/x-python",
   "name": "python",
   "nbconvert_exporter": "python",
   "pygments_lexer": "ipython3",
   "version": "3.6.5"
  }
 },
 "nbformat": 4,
 "nbformat_minor": 2
}
